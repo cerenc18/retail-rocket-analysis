{
 "cells": [
  {
   "cell_type": "code",
   "execution_count": null,
   "id": "44a5bc71-c9c8-443d-9a49-8c85f3a49ed5",
   "metadata": {},
   "outputs": [],
   "source": [
    "import pandas as pd\n",
    "from sqlalchemy import create_engine\n",
    "\n",
    "# SQL Server bağlantısı\n",
    "server = 'myserver'\n",
    "database = 'RetailRocketDB'\n",
    "conn_str = f\"mssql+pyodbc://{server}/{database}?driver=ODBC+Driver+17+for+SQL+Server&trusted_connection=yes\"\n",
    "engine = create_engine(conn_str, fast_executemany=True)\n",
    "\n",
    "# Dosya yolu\n",
    "file_path = r\"C:\\data\\item_properties_part1.csv\"\n",
    "\n",
    "# Her seferde okunacak satır sayısı (büyük tutabiliriz)\n",
    "chunksize = 50000  \n",
    "\n",
    "# to_sql için batch boyutu (parametre limitine uysun)\n",
    "insert_batch_size = 500  # 500 satır * 4 kolon = 2000 parametre < 2100 limit\n",
    "\n",
    "# İlk satırdan kolon isimlerini al\n",
    "col_names = pd.read_csv(file_path, sep=\",\", nrows=0).columns.tolist()\n",
    "\n",
    "# Parça parça oku ve SQL'e yükle\n",
    "for chunk in pd.read_csv(file_path, sep=\",\", names=col_names, header=0, chunksize=chunksize):\n",
    "    chunk.to_sql(\n",
    "        'item_properties_part1',\n",
    "        con=engine,\n",
    "        if_exists='append',\n",
    "        index=False,\n",
    "        method='multi',\n",
    "        chunksize=insert_batch_size  # burası kritik\n",
    "    )\n",
    "    print(f\"{len(chunk)} satır yüklendi...\")\n",
    "\n",
    "print(\"Tüm veri başarıyla yüklendi ✅\")\n",
    "#veriyi cektik hem de doğru baslkikla vs parca parca attim "
   ]
  }
 ],
 "metadata": {
  "kernelspec": {
   "display_name": "Python 3 (ipykernel)",
   "language": "python",
   "name": "python3"
  },
  "language_info": {
   "codemirror_mode": {
    "name": "ipython",
    "version": 3
   },
   "file_extension": ".py",
   "mimetype": "text/x-python",
   "name": "python",
   "nbconvert_exporter": "python",
   "pygments_lexer": "ipython3",
   "version": "3.11.7"
  }
 },
 "nbformat": 4,
 "nbformat_minor": 5
}
